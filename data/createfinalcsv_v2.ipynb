{
 "cells": [
  {
   "cell_type": "markdown",
   "metadata": {},
   "source": [
    "Creating final merged csv"
   ]
  },
  {
   "cell_type": "code",
   "execution_count": 1,
   "metadata": {},
   "outputs": [],
   "source": [
    "import pandas as pd\n",
    "import matplotlib.pyplot as plt\n",
    "import numpy as np\n",
    "from agreement.utils.kernels import quadratic_kernel\n",
    "\n",
    "samudp ='final_sam.csv'\n",
    "sinandp = 'final_sinan.csv'\n",
    "\n",
    "samuds = pd.read_csv(samudp)\n",
    "sinands = pd.read_csv(sinandp)\n",
    "joeds = pd.read_csv('final_joe.csv')\n"
   ]
  },
  {
   "cell_type": "code",
   "execution_count": 2,
   "metadata": {},
   "outputs": [],
   "source": [
    "sinan_x = sinands[[\"x_coordinate\", \"y_coordinate\"]]\n",
    "\n",
    "\n",
    "samu_x = samuds[[\"lyrics\",\"x_coordinate\", \"y_coordinate\"]]\n",
    "\n",
    "\n",
    "joe_x = joeds[[\"lyrics\",\"x_coordinate\", \"y_coordinate\"]]"
   ]
  },
  {
   "cell_type": "code",
   "execution_count": 3,
   "metadata": {},
   "outputs": [
    {
     "name": "stderr",
     "output_type": "stream",
     "text": [
      "C:\\Users\\joely\\AppData\\Local\\Temp\\ipykernel_42492\\4241590404.py:1: SettingWithCopyWarning: \n",
      "A value is trying to be set on a copy of a slice from a DataFrame.\n",
      "Try using .loc[row_indexer,col_indexer] = value instead\n",
      "\n",
      "See the caveats in the documentation: https://pandas.pydata.org/pandas-docs/stable/user_guide/indexing.html#returning-a-view-versus-a-copy\n",
      "  sinan_x['rater_id'] = 1\n",
      "C:\\Users\\joely\\AppData\\Local\\Temp\\ipykernel_42492\\4241590404.py:2: SettingWithCopyWarning: \n",
      "A value is trying to be set on a copy of a slice from a DataFrame.\n",
      "Try using .loc[row_indexer,col_indexer] = value instead\n",
      "\n",
      "See the caveats in the documentation: https://pandas.pydata.org/pandas-docs/stable/user_guide/indexing.html#returning-a-view-versus-a-copy\n",
      "  samu_x['rater_id'] = 2\n",
      "C:\\Users\\joely\\AppData\\Local\\Temp\\ipykernel_42492\\4241590404.py:3: SettingWithCopyWarning: \n",
      "A value is trying to be set on a copy of a slice from a DataFrame.\n",
      "Try using .loc[row_indexer,col_indexer] = value instead\n",
      "\n",
      "See the caveats in the documentation: https://pandas.pydata.org/pandas-docs/stable/user_guide/indexing.html#returning-a-view-versus-a-copy\n",
      "  joe_x['rater_id'] = 3\n",
      "C:\\Users\\joely\\AppData\\Local\\Temp\\ipykernel_42492\\4241590404.py:5: SettingWithCopyWarning: \n",
      "A value is trying to be set on a copy of a slice from a DataFrame.\n",
      "Try using .loc[row_indexer,col_indexer] = value instead\n",
      "\n",
      "See the caveats in the documentation: https://pandas.pydata.org/pandas-docs/stable/user_guide/indexing.html#returning-a-view-versus-a-copy\n",
      "  sinan_x['question_id'] = sinan_x.index + 1\n",
      "C:\\Users\\joely\\AppData\\Local\\Temp\\ipykernel_42492\\4241590404.py:6: SettingWithCopyWarning: \n",
      "A value is trying to be set on a copy of a slice from a DataFrame.\n",
      "Try using .loc[row_indexer,col_indexer] = value instead\n",
      "\n",
      "See the caveats in the documentation: https://pandas.pydata.org/pandas-docs/stable/user_guide/indexing.html#returning-a-view-versus-a-copy\n",
      "  samu_x['question_id'] = samu_x.index + 1\n",
      "C:\\Users\\joely\\AppData\\Local\\Temp\\ipykernel_42492\\4241590404.py:7: SettingWithCopyWarning: \n",
      "A value is trying to be set on a copy of a slice from a DataFrame.\n",
      "Try using .loc[row_indexer,col_indexer] = value instead\n",
      "\n",
      "See the caveats in the documentation: https://pandas.pydata.org/pandas-docs/stable/user_guide/indexing.html#returning-a-view-versus-a-copy\n",
      "  joe_x['question_id'] = joe_x.index + 1\n"
     ]
    }
   ],
   "source": [
    "sinan_x['rater_id'] = 1\n",
    "samu_x['rater_id'] = 2\n",
    "joe_x['rater_id'] = 3\n",
    "\n",
    "sinan_x['question_id'] = sinan_x.index + 1\n",
    "samu_x['question_id'] = samu_x.index + 1\n",
    "joe_x['question_id'] = joe_x.index + 1\n",
    "\n",
    "# Concatenate the dataframes to have all x_coord and y_coord in separate dataframes\n",
    "df_x = pd.concat([sinan_x[['question_id', 'rater_id', 'x_coordinate']], \n",
    "                  samu_x[[ 'question_id', 'rater_id', 'x_coordinate']], \n",
    "                  joe_x[[ 'question_id', 'rater_id', 'x_coordinate']]], ignore_index=True)\n",
    "\n",
    "df_y = pd.concat([sinan_x[['question_id', 'rater_id', 'y_coordinate']], \n",
    "                  samu_x[['question_id', 'rater_id', 'y_coordinate']], \n",
    "                  joe_x[['question_id', 'rater_id', 'y_coordinate']]], ignore_index=True)\n",
    "\n",
    "df_x.sort_values(by=['question_id', 'rater_id'], inplace=True)\n",
    "df_y.sort_values(by=['question_id', 'rater_id'], inplace=True)\n",
    "\n",
    "# Rename columns for clarity\n",
    "df_x.columns = ['question_id', 'rater_id', 'x_coord']\n",
    "df_y.columns = ['question_id', 'rater_id', 'y_coord']\n",
    "\n",
    "mean_x = df_x.groupby('question_id')['x_coord'].mean().reset_index()\n",
    "mean_y = df_y.groupby('question_id')['y_coord'].mean().reset_index()\n",
    "\n",
    "mean_coordinates = pd.merge(mean_x, mean_y, on='question_id')\n",
    "\n",
    "lyrics_df = samu_x[['question_id', 'lyrics']].drop_duplicates()\n",
    "\n",
    "final_df = pd.merge(mean_coordinates, lyrics_df, on='question_id', how='left')\n",
    "\n",
    "final_df.to_csv('final.csv', index=False)\n",
    "\n"
   ]
  }
 ],
 "metadata": {
  "kernelspec": {
   "display_name": "Python 3",
   "language": "python",
   "name": "python3"
  },
  "language_info": {
   "codemirror_mode": {
    "name": "ipython",
    "version": 3
   },
   "file_extension": ".py",
   "mimetype": "text/x-python",
   "name": "python",
   "nbconvert_exporter": "python",
   "pygments_lexer": "ipython3",
   "version": "3.12.4"
  }
 },
 "nbformat": 4,
 "nbformat_minor": 2
}
