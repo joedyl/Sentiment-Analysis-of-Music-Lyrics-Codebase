{
 "cells": [
  {
   "cell_type": "code",
   "execution_count": 1,
   "metadata": {},
   "outputs": [],
   "source": [
    "import pandas as pd"
   ]
  },
  {
   "cell_type": "markdown",
   "metadata": {},
   "source": [
    "First we will load the CSV with all the songs and metadata using pandas. "
   ]
  },
  {
   "cell_type": "code",
   "execution_count": 2,
   "metadata": {},
   "outputs": [
    {
     "name": "stdout",
     "output_type": "stream",
     "text": [
      "               title  tag     artist  year   views  \\\n",
      "0          Killa Cam  rap    Cam'ron  2004  173166   \n",
      "1         Can I Live  rap      JAY-Z  1996  468624   \n",
      "2  Forgive Me Father  rap   Fabolous  2003    4743   \n",
      "3       Down and Out  rap    Cam'ron  2004  144404   \n",
      "4             Fly In  rap  Lil Wayne  2005   78271   \n",
      "\n",
      "                                       features  \\\n",
      "0                   {\"Cam\\\\'ron\",\"Opera Steve\"}   \n",
      "1                                            {}   \n",
      "2                                            {}   \n",
      "3  {\"Cam\\\\'ron\",\"Kanye West\",\"Syleena Johnson\"}   \n",
      "4                                            {}   \n",
      "\n",
      "                                              lyrics  id language_cld3  \\\n",
      "0  [Chorus: Opera Steve & Cam'ron]\\nKilla Cam, Ki...   1            en   \n",
      "1  [Produced by Irv Gotti]\\n\\n[Intro]\\nYeah, hah,...   3            en   \n",
      "2  Maybe cause I'm eatin\\nAnd these bastards fien...   4            en   \n",
      "3  [Produced by Kanye West and Brian Miller]\\n\\n[...   5            en   \n",
      "4  [Intro]\\nSo they ask me\\n\"Young boy\\nWhat you ...   6            en   \n",
      "\n",
      "  language_ft language  \n",
      "0          en       en  \n",
      "1          en       en  \n",
      "2          en       en  \n",
      "3          en       en  \n",
      "4          en       en  \n"
     ]
    }
   ],
   "source": [
    "ds_path = './song_lyrics.csv'\n",
    "df = pd.read_csv(ds_path)\n",
    "\n",
    "print(df.head(5))"
   ]
  },
  {
   "cell_type": "code",
   "execution_count": 3,
   "metadata": {},
   "outputs": [
    {
     "data": {
      "text/plain": [
       "array(['rap', 'rb', 'rock', 'pop', 'misc', 'country'], dtype=object)"
      ]
     },
     "execution_count": 3,
     "metadata": {},
     "output_type": "execute_result"
    }
   ],
   "source": [
    "df.describe()\n",
    "df['tag'].unique()"
   ]
  },
  {
   "cell_type": "code",
   "execution_count": 4,
   "metadata": {},
   "outputs": [],
   "source": [
    "tag_c = df['tag'].value_counts(normalize=True)"
   ]
  },
  {
   "cell_type": "markdown",
   "metadata": {},
   "source": [
    "Run cell block below to keep the genre distribution of the original dataset."
   ]
  },
  {
   "cell_type": "code",
   "execution_count": null,
   "metadata": {},
   "outputs": [],
   "source": [
    "lyrics_df = pd.DataFrame()\n",
    "\n",
    "lyrics_df = df[df['language'] == 'en']\n",
    "\n",
    "\n",
    "for tag, perc in tag_c.items():\n",
    "    genre_sample_size = int(1500 * perc)\n",
    "    genre_df = df[df['tag'] == tag]\n",
    "    genre_sample = genre_df.sample(n=genre_sample_size, random_state=42)\n",
    "    lyrics_df = pd.concat([lyrics_df, genre_sample])\n",
    "\n",
    "lyrics_df.reset_index(drop=True, inplace=True)\n",
    "\n",
    "lyrics_df.to_csv('sampled_genius_lyrics.csv', index=False)"
   ]
  },
  {
   "cell_type": "markdown",
   "metadata": {},
   "source": [
    "Create a csv with evenly distributed genres."
   ]
  },
  {
   "cell_type": "code",
   "execution_count": 5,
   "metadata": {},
   "outputs": [
    {
     "name": "stdout",
     "output_type": "stream",
     "text": [
      "300\n",
      "rap\n",
      "rb\n",
      "rock\n",
      "pop\n",
      "country\n",
      "           title  tag          artist  year  views         features  \\\n",
      "0          Relax  rap      Rich Amiri  2022     10               {}   \n",
      "1          Extra  rap     Lil Calorie  2020     19               {}   \n",
      "2   The Most Fun  rap         Safaree  2015   1348  {\"Papi Chuloh\"}   \n",
      "3     California  rap  Vanilla Taurus  2018      7               {}   \n",
      "4  Free Thinking  rap     ProduceKyro  2021     18       {XLoRacer}   \n",
      "\n",
      "                                              lyrics       id language_cld3  \\\n",
      "0  [Intro]\\nKeep it up, Sharkboy\\n\\n[Chorus]\\nI g...  7861664            en   \n",
      "1  I’m just an extra\\nNobody text yeah\\nLeave me ...  5939567            en   \n",
      "2  (Papi Chuloh)\\n\\n[?]\\n\\nStuntgang\\n\\n[?]\\n\\n[C...  2278633            en   \n",
      "3  [Chorus] x2\\n\\nI-I-I-\\nUp in California\\nTakin...  5773234            en   \n",
      "4  [Intro]\\n(You, you, you, you)\\n(You, you, you,...  7404219            en   \n",
      "\n",
      "  language_ft language  \n",
      "0          en       en  \n",
      "1          en       en  \n",
      "2          en       en  \n",
      "3          en       en  \n",
      "4          en       en  \n"
     ]
    }
   ],
   "source": [
    "sample_size = 1500\n",
    "\n",
    "even_lyrics_df = pd.DataFrame()\n",
    "\n",
    "df = df[df['language'] == 'en']\n",
    "\n",
    "tags = df['tag'].unique()\n",
    "num_tags = tags.size\n",
    "\n",
    "genre_size = int(1500 / (num_tags - 1))\n",
    "print(genre_size)\n",
    "\n",
    "for tag in tags:\n",
    "    if tag != \"misc\":\n",
    "        print(tag)\n",
    "        genre_df = df[df['tag'] == tag]\n",
    "\n",
    "        if len(genre_df) < genre_size:\n",
    "            genre_sample = genre_df\n",
    "            print(f\"Tag '{tag}' has only {len(genre_df)} rows, taking all rows.\")\n",
    "\n",
    "        else:\n",
    "            genre_sample = genre_df.sample(n=genre_size, random_state=42)\n",
    "        even_lyrics_df = pd.concat([even_lyrics_df, genre_sample])\n",
    "    \n",
    "even_lyrics_df.reset_index(drop=True, inplace=True)\n",
    "print(even_lyrics_df.head(5))\n",
    "\n",
    "even_lyrics_df.to_csv('evenly_sampled_genius_lyrics.csv', index=False)\n"
   ]
  }
 ],
 "metadata": {
  "kernelspec": {
   "display_name": "Python 3",
   "language": "python",
   "name": "python3"
  },
  "language_info": {
   "codemirror_mode": {
    "name": "ipython",
    "version": 3
   },
   "file_extension": ".py",
   "mimetype": "text/x-python",
   "name": "python",
   "nbconvert_exporter": "python",
   "pygments_lexer": "ipython3",
   "version": "3.11.0"
  }
 },
 "nbformat": 4,
 "nbformat_minor": 2
}
